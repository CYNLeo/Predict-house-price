{
  "nbformat": 4,
  "nbformat_minor": 0,
  "metadata": {
    "colab": {
      "provenance": [],
      "include_colab_link": true
    },
    "kernelspec": {
      "name": "python3",
      "display_name": "Python 3"
    },
    "language_info": {
      "name": "python"
    }
  },
  "cells": [
    {
      "cell_type": "markdown",
      "metadata": {
        "id": "view-in-github",
        "colab_type": "text"
      },
      "source": [
        "<a href=\"https://colab.research.google.com/github/CYNLeo/Predict-house-price/blob/main/PredictingHousePrice.ipynb\" target=\"_parent\"><img src=\"https://colab.research.google.com/assets/colab-badge.svg\" alt=\"Open In Colab\"/></a>"
      ]
    },
    {
      "cell_type": "code",
      "execution_count": null,
      "metadata": {
        "id": "EkK8Ksp0n6PF"
      },
      "outputs": [],
      "source": [
        "import numpy as np\n",
        "import pandas as pd\n",
        "import matplotlib.pyplot as plt\n",
        "import seaborn as sns\n",
        "%matplotlib inline\n",
        "df = pd.read_csv('/content/drive/MyDrive/Data_ams2/Q1_Housingv1.csv')"
      ]
    },
    {
      "cell_type": "code",
      "source": [
        "features_with_na=[features for features in df.columns if df[features].isnull().sum()>1]\n",
        "for feature in features_with_na:\n",
        "    print(feature, np.round(df[feature].isnull().mean(), 4),  ' % missing values')"
      ],
      "metadata": {
        "colab": {
          "base_uri": "https://localhost:8080/"
        },
        "id": "8azaHYHZoUxI",
        "outputId": "9635c85f-ffdf-4c13-f778-b1ebcbca6693"
      },
      "execution_count": null,
      "outputs": [
        {
          "output_type": "stream",
          "name": "stdout",
          "text": [
            "MSZoning 0.0027  % missing values\n",
            "LotFrontage 0.1556  % missing values\n",
            "Alley 0.9267  % missing values\n",
            "Utilities 0.0014  % missing values\n",
            "MasVnrType 0.011  % missing values\n",
            "MasVnrArea 0.0103  % missing values\n",
            "BsmtQual 0.0302  % missing values\n",
            "BsmtCond 0.0308  % missing values\n",
            "BsmtExposure 0.0302  % missing values\n",
            "BsmtFinType1 0.0288  % missing values\n",
            "BsmtFinType2 0.0288  % missing values\n",
            "BsmtFullBath 0.0014  % missing values\n",
            "BsmtHalfBath 0.0014  % missing values\n",
            "Functional 0.0014  % missing values\n",
            "FireplaceQu 0.5003  % missing values\n",
            "GarageType 0.0521  % missing values\n",
            "GarageYrBlt 0.0535  % missing values\n",
            "GarageFinish 0.0535  % missing values\n",
            "GarageQual 0.0535  % missing values\n",
            "GarageCond 0.0535  % missing values\n",
            "PoolQC 0.9979  % missing values\n",
            "Fence 0.8012  % missing values\n",
            "MiscFeature 0.965  % missing values\n"
          ]
        }
      ]
    },
    {
      "cell_type": "markdown",
      "source": [
        "We can see that 'MiscFeature','Fence','PoolQC','Alley' and 'FireplaceQu' has high precent of missing values, therefore we drop these columns"
      ],
      "metadata": {
        "id": "o0dl4LuS49RP"
      }
    },
    {
      "cell_type": "code",
      "source": [
        "df['Utilities'].unique()"
      ],
      "metadata": {
        "colab": {
          "base_uri": "https://localhost:8080/"
        },
        "id": "nnQjN9eh5VAF",
        "outputId": "2fb2ac79-70d6-444c-caae-d3bb408c859e"
      },
      "execution_count": null,
      "outputs": [
        {
          "output_type": "execute_result",
          "data": {
            "text/plain": [
              "array(['AllPub', nan], dtype=object)"
            ]
          },
          "metadata": {},
          "execution_count": 634
        }
      ]
    },
    {
      "cell_type": "markdown",
      "source": [
        "We can see that 'Utilities' column only has one value therefore we drop this column"
      ],
      "metadata": {
        "id": "j5UN7t295iDV"
      }
    },
    {
      "cell_type": "code",
      "source": [
        "df.drop(['MiscFeature','Fence','PoolQC','Alley','Utilities','FireplaceQu'],axis = 1,inplace=True) #dropping Utilities because all the value are same"
      ],
      "metadata": {
        "id": "8CqRj2qrobeH"
      },
      "execution_count": null,
      "outputs": []
    },
    {
      "cell_type": "code",
      "source": [
        "#chnage to string (Date value or identify the type,etc)\n",
        "df.dropna(inplace=True)\n",
        "df['GarageYrBlt'] = df['GarageYrBlt'].astype(int)\n",
        "df['MSSubClass'] =df['MSSubClass'].astype(str)\n",
        "df['OverallQual'] =df['OverallQual'].astype(str)\n",
        "df['OverallCond'] =df['OverallCond'].astype(str)\n",
        "df['YrSold'] =df['YrSold'].astype(str)\n",
        "df['YearRemodAdd'] = df['YearRemodAdd'].astype(str)\n",
        "df['YearBuilt'] = df['YearBuilt'].astype(str)\n",
        "df['GarageYrBlt'] = df['GarageYrBlt'].astype(str)"
      ],
      "metadata": {
        "id": "Z_YDatbto9j5"
      },
      "execution_count": null,
      "outputs": []
    },
    {
      "cell_type": "markdown",
      "source": [
        "The above columns cahnge to string value becasue some of them is belong to categoical columns such as year or date"
      ],
      "metadata": {
        "id": "08ro7ROI55po"
      }
    },
    {
      "cell_type": "code",
      "source": [
        "from sklearn.preprocessing import LabelEncoder\n",
        "\n",
        "num_cols = ['LotFrontage', 'LotArea','MoSold',\n",
        "            'MasVnrArea', 'BsmtFinSF1', 'BsmtFinSF2',\n",
        "            'BsmtUnfSF', 'TotalBsmtSF', '1stFlrSF', '2ndFlrSF', 'LowQualFinSF',\n",
        "            'GrLivArea', 'BsmtFullBath', 'BsmtHalfBath', 'FullBath', 'HalfBath',\n",
        "            'BedroomAbvGr', 'KitchenAbvGr', 'TotRmsAbvGrd', 'Fireplaces',\n",
        "            'GarageCars', 'GarageArea', 'WoodDeckSF', 'OpenPorchSF','EnclosedPorch',\n",
        "            '3SsnPorch', 'ScreenPorch', 'PoolArea', 'MiscVal']\n",
        "\n",
        "temp= [\n",
        "  \"MSSubClass\",\n",
        "  \"MSZoning\",\n",
        "  \"Street\",\n",
        "  \"LotShape\",\n",
        "  \"LandContour\",\n",
        "  \"LotConfig\",\n",
        "  \"LandSlope\",\n",
        "  \"Neighborhood\",\n",
        "  \"Condition1\",\n",
        "  \"Condition2\",\n",
        "  \"BldgType\",\n",
        "  \"HouseStyle\",\n",
        "  \"YearBuilt\",\n",
        "  \"YearRemodAdd\",\n",
        "  \"RoofStyle\",\n",
        "  \"RoofMatl\",\n",
        "  \"Exterior1st\",\n",
        "  \"Exterior2nd\",\n",
        "  \"MasVnrType\",\n",
        "  \"ExterQual\",\n",
        "  \"ExterCond\",\n",
        "  \"Foundation\",\n",
        "  \"BsmtQual\",\n",
        "  \"BsmtCond\",\n",
        "  \"BsmtExposure\",\n",
        "  \"BsmtFinType1\",\n",
        "  \"BsmtFinType2\",\n",
        "  \"Heating\",\n",
        "  \"HeatingQC\",\n",
        "  \"CentralAir\",\n",
        "  \"Electrical\",\n",
        "  \"KitchenQual\",\n",
        "  \"Functional\",\n",
        "  \"GarageType\",\n",
        "  \"GarageYrBlt\",\n",
        "  \"GarageFinish\",\n",
        "  \"GarageQual\",\n",
        "  \"GarageCond\",\n",
        "  \"PavedDrive\",\n",
        "  \"YrSold\",\n",
        "  \"SaleType\",\n",
        "  \"SaleCondition\"\n",
        "]\n",
        "\n",
        "for c in temp:\n",
        "  Ibl = LabelEncoder()\n",
        "  Ibl.fit(list(df[c].values))\n",
        "  df[c] = Ibl.transform(list(df[c].values))\n"
      ],
      "metadata": {
        "id": "0V3DL85FovJ6"
      },
      "execution_count": null,
      "outputs": []
    },
    {
      "cell_type": "code",
      "source": [
        "df.head()"
      ],
      "metadata": {
        "colab": {
          "base_uri": "https://localhost:8080/",
          "height": 280
        },
        "id": "w03l591zZpBG",
        "outputId": "2442b2ad-6032-4f12-d06f-0375c4d19bef"
      },
      "execution_count": null,
      "outputs": [
        {
          "output_type": "execute_result",
          "data": {
            "text/plain": [
              "     Id  MSSubClass  MSZoning  LotFrontage  LotArea  Street  LotShape  \\\n",
              "0  1461           4         2         80.0    11622       1         3   \n",
              "1  1462           4         3         81.0    14267       1         0   \n",
              "2  1463           9         3         74.0    13830       1         0   \n",
              "3  1464           9         3         78.0     9978       1         0   \n",
              "4  1465           0         3         43.0     5005       1         0   \n",
              "\n",
              "   LandContour  LotConfig  LandSlope  ...  EnclosedPorch  3SsnPorch  \\\n",
              "0            3          4          0  ...              0          0   \n",
              "1            3          0          0  ...              0          0   \n",
              "2            3          4          0  ...              0          0   \n",
              "3            3          4          0  ...              0          0   \n",
              "4            1          4          0  ...              0          0   \n",
              "\n",
              "   ScreenPorch  PoolArea  MiscVal MoSold YrSold  SaleType  SaleCondition  \\\n",
              "0          120         0        0      6      4         8              4   \n",
              "1            0         0    12500      6      4         8              4   \n",
              "2            0         0        0      3      4         8              4   \n",
              "3            0         0        0      6      4         8              4   \n",
              "4          144         0        0      1      4         8              4   \n",
              "\n",
              "   SalePrice  \n",
              "0     169300  \n",
              "1     187800  \n",
              "2     183600  \n",
              "3     179300  \n",
              "4     150700  \n",
              "\n",
              "[5 rows x 75 columns]"
            ],
            "text/html": [
              "\n",
              "  <div id=\"df-5b6fc3b9-3ea5-4820-869f-764dbbe76787\">\n",
              "    <div class=\"colab-df-container\">\n",
              "      <div>\n",
              "<style scoped>\n",
              "    .dataframe tbody tr th:only-of-type {\n",
              "        vertical-align: middle;\n",
              "    }\n",
              "\n",
              "    .dataframe tbody tr th {\n",
              "        vertical-align: top;\n",
              "    }\n",
              "\n",
              "    .dataframe thead th {\n",
              "        text-align: right;\n",
              "    }\n",
              "</style>\n",
              "<table border=\"1\" class=\"dataframe\">\n",
              "  <thead>\n",
              "    <tr style=\"text-align: right;\">\n",
              "      <th></th>\n",
              "      <th>Id</th>\n",
              "      <th>MSSubClass</th>\n",
              "      <th>MSZoning</th>\n",
              "      <th>LotFrontage</th>\n",
              "      <th>LotArea</th>\n",
              "      <th>Street</th>\n",
              "      <th>LotShape</th>\n",
              "      <th>LandContour</th>\n",
              "      <th>LotConfig</th>\n",
              "      <th>LandSlope</th>\n",
              "      <th>...</th>\n",
              "      <th>EnclosedPorch</th>\n",
              "      <th>3SsnPorch</th>\n",
              "      <th>ScreenPorch</th>\n",
              "      <th>PoolArea</th>\n",
              "      <th>MiscVal</th>\n",
              "      <th>MoSold</th>\n",
              "      <th>YrSold</th>\n",
              "      <th>SaleType</th>\n",
              "      <th>SaleCondition</th>\n",
              "      <th>SalePrice</th>\n",
              "    </tr>\n",
              "  </thead>\n",
              "  <tbody>\n",
              "    <tr>\n",
              "      <th>0</th>\n",
              "      <td>1461</td>\n",
              "      <td>4</td>\n",
              "      <td>2</td>\n",
              "      <td>80.0</td>\n",
              "      <td>11622</td>\n",
              "      <td>1</td>\n",
              "      <td>3</td>\n",
              "      <td>3</td>\n",
              "      <td>4</td>\n",
              "      <td>0</td>\n",
              "      <td>...</td>\n",
              "      <td>0</td>\n",
              "      <td>0</td>\n",
              "      <td>120</td>\n",
              "      <td>0</td>\n",
              "      <td>0</td>\n",
              "      <td>6</td>\n",
              "      <td>4</td>\n",
              "      <td>8</td>\n",
              "      <td>4</td>\n",
              "      <td>169300</td>\n",
              "    </tr>\n",
              "    <tr>\n",
              "      <th>1</th>\n",
              "      <td>1462</td>\n",
              "      <td>4</td>\n",
              "      <td>3</td>\n",
              "      <td>81.0</td>\n",
              "      <td>14267</td>\n",
              "      <td>1</td>\n",
              "      <td>0</td>\n",
              "      <td>3</td>\n",
              "      <td>0</td>\n",
              "      <td>0</td>\n",
              "      <td>...</td>\n",
              "      <td>0</td>\n",
              "      <td>0</td>\n",
              "      <td>0</td>\n",
              "      <td>0</td>\n",
              "      <td>12500</td>\n",
              "      <td>6</td>\n",
              "      <td>4</td>\n",
              "      <td>8</td>\n",
              "      <td>4</td>\n",
              "      <td>187800</td>\n",
              "    </tr>\n",
              "    <tr>\n",
              "      <th>2</th>\n",
              "      <td>1463</td>\n",
              "      <td>9</td>\n",
              "      <td>3</td>\n",
              "      <td>74.0</td>\n",
              "      <td>13830</td>\n",
              "      <td>1</td>\n",
              "      <td>0</td>\n",
              "      <td>3</td>\n",
              "      <td>4</td>\n",
              "      <td>0</td>\n",
              "      <td>...</td>\n",
              "      <td>0</td>\n",
              "      <td>0</td>\n",
              "      <td>0</td>\n",
              "      <td>0</td>\n",
              "      <td>0</td>\n",
              "      <td>3</td>\n",
              "      <td>4</td>\n",
              "      <td>8</td>\n",
              "      <td>4</td>\n",
              "      <td>183600</td>\n",
              "    </tr>\n",
              "    <tr>\n",
              "      <th>3</th>\n",
              "      <td>1464</td>\n",
              "      <td>9</td>\n",
              "      <td>3</td>\n",
              "      <td>78.0</td>\n",
              "      <td>9978</td>\n",
              "      <td>1</td>\n",
              "      <td>0</td>\n",
              "      <td>3</td>\n",
              "      <td>4</td>\n",
              "      <td>0</td>\n",
              "      <td>...</td>\n",
              "      <td>0</td>\n",
              "      <td>0</td>\n",
              "      <td>0</td>\n",
              "      <td>0</td>\n",
              "      <td>0</td>\n",
              "      <td>6</td>\n",
              "      <td>4</td>\n",
              "      <td>8</td>\n",
              "      <td>4</td>\n",
              "      <td>179300</td>\n",
              "    </tr>\n",
              "    <tr>\n",
              "      <th>4</th>\n",
              "      <td>1465</td>\n",
              "      <td>0</td>\n",
              "      <td>3</td>\n",
              "      <td>43.0</td>\n",
              "      <td>5005</td>\n",
              "      <td>1</td>\n",
              "      <td>0</td>\n",
              "      <td>1</td>\n",
              "      <td>4</td>\n",
              "      <td>0</td>\n",
              "      <td>...</td>\n",
              "      <td>0</td>\n",
              "      <td>0</td>\n",
              "      <td>144</td>\n",
              "      <td>0</td>\n",
              "      <td>0</td>\n",
              "      <td>1</td>\n",
              "      <td>4</td>\n",
              "      <td>8</td>\n",
              "      <td>4</td>\n",
              "      <td>150700</td>\n",
              "    </tr>\n",
              "  </tbody>\n",
              "</table>\n",
              "<p>5 rows × 75 columns</p>\n",
              "</div>\n",
              "      <button class=\"colab-df-convert\" onclick=\"convertToInteractive('df-5b6fc3b9-3ea5-4820-869f-764dbbe76787')\"\n",
              "              title=\"Convert this dataframe to an interactive table.\"\n",
              "              style=\"display:none;\">\n",
              "        \n",
              "  <svg xmlns=\"http://www.w3.org/2000/svg\" height=\"24px\"viewBox=\"0 0 24 24\"\n",
              "       width=\"24px\">\n",
              "    <path d=\"M0 0h24v24H0V0z\" fill=\"none\"/>\n",
              "    <path d=\"M18.56 5.44l.94 2.06.94-2.06 2.06-.94-2.06-.94-.94-2.06-.94 2.06-2.06.94zm-11 1L8.5 8.5l.94-2.06 2.06-.94-2.06-.94L8.5 2.5l-.94 2.06-2.06.94zm10 10l.94 2.06.94-2.06 2.06-.94-2.06-.94-.94-2.06-.94 2.06-2.06.94z\"/><path d=\"M17.41 7.96l-1.37-1.37c-.4-.4-.92-.59-1.43-.59-.52 0-1.04.2-1.43.59L10.3 9.45l-7.72 7.72c-.78.78-.78 2.05 0 2.83L4 21.41c.39.39.9.59 1.41.59.51 0 1.02-.2 1.41-.59l7.78-7.78 2.81-2.81c.8-.78.8-2.07 0-2.86zM5.41 20L4 18.59l7.72-7.72 1.47 1.35L5.41 20z\"/>\n",
              "  </svg>\n",
              "      </button>\n",
              "      \n",
              "  <style>\n",
              "    .colab-df-container {\n",
              "      display:flex;\n",
              "      flex-wrap:wrap;\n",
              "      gap: 12px;\n",
              "    }\n",
              "\n",
              "    .colab-df-convert {\n",
              "      background-color: #E8F0FE;\n",
              "      border: none;\n",
              "      border-radius: 50%;\n",
              "      cursor: pointer;\n",
              "      display: none;\n",
              "      fill: #1967D2;\n",
              "      height: 32px;\n",
              "      padding: 0 0 0 0;\n",
              "      width: 32px;\n",
              "    }\n",
              "\n",
              "    .colab-df-convert:hover {\n",
              "      background-color: #E2EBFA;\n",
              "      box-shadow: 0px 1px 2px rgba(60, 64, 67, 0.3), 0px 1px 3px 1px rgba(60, 64, 67, 0.15);\n",
              "      fill: #174EA6;\n",
              "    }\n",
              "\n",
              "    [theme=dark] .colab-df-convert {\n",
              "      background-color: #3B4455;\n",
              "      fill: #D2E3FC;\n",
              "    }\n",
              "\n",
              "    [theme=dark] .colab-df-convert:hover {\n",
              "      background-color: #434B5C;\n",
              "      box-shadow: 0px 1px 3px 1px rgba(0, 0, 0, 0.15);\n",
              "      filter: drop-shadow(0px 1px 2px rgba(0, 0, 0, 0.3));\n",
              "      fill: #FFFFFF;\n",
              "    }\n",
              "  </style>\n",
              "\n",
              "      <script>\n",
              "        const buttonEl =\n",
              "          document.querySelector('#df-5b6fc3b9-3ea5-4820-869f-764dbbe76787 button.colab-df-convert');\n",
              "        buttonEl.style.display =\n",
              "          google.colab.kernel.accessAllowed ? 'block' : 'none';\n",
              "\n",
              "        async function convertToInteractive(key) {\n",
              "          const element = document.querySelector('#df-5b6fc3b9-3ea5-4820-869f-764dbbe76787');\n",
              "          const dataTable =\n",
              "            await google.colab.kernel.invokeFunction('convertToInteractive',\n",
              "                                                     [key], {});\n",
              "          if (!dataTable) return;\n",
              "\n",
              "          const docLinkHtml = 'Like what you see? Visit the ' +\n",
              "            '<a target=\"_blank\" href=https://colab.research.google.com/notebooks/data_table.ipynb>data table notebook</a>'\n",
              "            + ' to learn more about interactive tables.';\n",
              "          element.innerHTML = '';\n",
              "          dataTable['output_type'] = 'display_data';\n",
              "          await google.colab.output.renderOutput(dataTable, element);\n",
              "          const docLink = document.createElement('div');\n",
              "          docLink.innerHTML = docLinkHtml;\n",
              "          element.appendChild(docLink);\n",
              "        }\n",
              "      </script>\n",
              "    </div>\n",
              "  </div>\n",
              "  "
            ]
          },
          "metadata": {},
          "execution_count": 638
        }
      ]
    },
    {
      "cell_type": "code",
      "source": [
        "df.info()"
      ],
      "metadata": {
        "colab": {
          "base_uri": "https://localhost:8080/"
        },
        "id": "z0wnkjpEZLtH",
        "outputId": "d3b7cddd-06f5-4fd4-cdbb-571877a26826"
      },
      "execution_count": null,
      "outputs": [
        {
          "output_type": "stream",
          "name": "stdout",
          "text": [
            "<class 'pandas.core.frame.DataFrame'>\n",
            "Int64Index: 1108 entries, 0 to 1458\n",
            "Data columns (total 75 columns):\n",
            " #   Column         Non-Null Count  Dtype  \n",
            "---  ------         --------------  -----  \n",
            " 0   Id             1108 non-null   int64  \n",
            " 1   MSSubClass     1108 non-null   int64  \n",
            " 2   MSZoning       1108 non-null   int64  \n",
            " 3   LotFrontage    1108 non-null   float64\n",
            " 4   LotArea        1108 non-null   int64  \n",
            " 5   Street         1108 non-null   int64  \n",
            " 6   LotShape       1108 non-null   int64  \n",
            " 7   LandContour    1108 non-null   int64  \n",
            " 8   LotConfig      1108 non-null   int64  \n",
            " 9   LandSlope      1108 non-null   int64  \n",
            " 10  Neighborhood   1108 non-null   int64  \n",
            " 11  Condition1     1108 non-null   int64  \n",
            " 12  Condition2     1108 non-null   int64  \n",
            " 13  BldgType       1108 non-null   int64  \n",
            " 14  HouseStyle     1108 non-null   int64  \n",
            " 15  OverallQual    1108 non-null   object \n",
            " 16  OverallCond    1108 non-null   object \n",
            " 17  YearBuilt      1108 non-null   int64  \n",
            " 18  YearRemodAdd   1108 non-null   int64  \n",
            " 19  RoofStyle      1108 non-null   int64  \n",
            " 20  RoofMatl       1108 non-null   int64  \n",
            " 21  Exterior1st    1108 non-null   int64  \n",
            " 22  Exterior2nd    1108 non-null   int64  \n",
            " 23  MasVnrType     1108 non-null   int64  \n",
            " 24  MasVnrArea     1108 non-null   float64\n",
            " 25  ExterQual      1108 non-null   int64  \n",
            " 26  ExterCond      1108 non-null   int64  \n",
            " 27  Foundation     1108 non-null   int64  \n",
            " 28  BsmtQual       1108 non-null   int64  \n",
            " 29  BsmtCond       1108 non-null   int64  \n",
            " 30  BsmtExposure   1108 non-null   int64  \n",
            " 31  BsmtFinType1   1108 non-null   int64  \n",
            " 32  BsmtFinSF1     1108 non-null   float64\n",
            " 33  BsmtFinType2   1108 non-null   int64  \n",
            " 34  BsmtFinSF2     1108 non-null   float64\n",
            " 35  BsmtUnfSF      1108 non-null   float64\n",
            " 36  TotalBsmtSF    1108 non-null   float64\n",
            " 37  Heating        1108 non-null   int64  \n",
            " 38  HeatingQC      1108 non-null   int64  \n",
            " 39  CentralAir     1108 non-null   int64  \n",
            " 40  Electrical     1108 non-null   int64  \n",
            " 41  1stFlrSF       1108 non-null   int64  \n",
            " 42  2ndFlrSF       1108 non-null   int64  \n",
            " 43  LowQualFinSF   1108 non-null   int64  \n",
            " 44  GrLivArea      1108 non-null   int64  \n",
            " 45  BsmtFullBath   1108 non-null   float64\n",
            " 46  BsmtHalfBath   1108 non-null   float64\n",
            " 47  FullBath       1108 non-null   int64  \n",
            " 48  HalfBath       1108 non-null   int64  \n",
            " 49  BedroomAbvGr   1108 non-null   int64  \n",
            " 50  KitchenAbvGr   1108 non-null   int64  \n",
            " 51  KitchenQual    1108 non-null   int64  \n",
            " 52  TotRmsAbvGrd   1108 non-null   int64  \n",
            " 53  Functional     1108 non-null   int64  \n",
            " 54  Fireplaces     1108 non-null   int64  \n",
            " 55  GarageType     1108 non-null   int64  \n",
            " 56  GarageYrBlt    1108 non-null   int64  \n",
            " 57  GarageFinish   1108 non-null   int64  \n",
            " 58  GarageCars     1108 non-null   float64\n",
            " 59  GarageArea     1108 non-null   float64\n",
            " 60  GarageQual     1108 non-null   int64  \n",
            " 61  GarageCond     1108 non-null   int64  \n",
            " 62  PavedDrive     1108 non-null   int64  \n",
            " 63  WoodDeckSF     1108 non-null   int64  \n",
            " 64  OpenPorchSF    1108 non-null   int64  \n",
            " 65  EnclosedPorch  1108 non-null   int64  \n",
            " 66  3SsnPorch      1108 non-null   int64  \n",
            " 67  ScreenPorch    1108 non-null   int64  \n",
            " 68  PoolArea       1108 non-null   int64  \n",
            " 69  MiscVal        1108 non-null   int64  \n",
            " 70  MoSold         1108 non-null   int64  \n",
            " 71  YrSold         1108 non-null   int64  \n",
            " 72  SaleType       1108 non-null   int64  \n",
            " 73  SaleCondition  1108 non-null   int64  \n",
            " 74  SalePrice      1108 non-null   int64  \n",
            "dtypes: float64(10), int64(63), object(2)\n",
            "memory usage: 657.9+ KB\n"
          ]
        }
      ]
    },
    {
      "cell_type": "code",
      "source": [
        "from sklearn.preprocessing import MinMaxScaler, StandardScaler\n",
        "scaler = MinMaxScaler()\n",
        "std = StandardScaler()\n",
        "df[num_cols] = scaler.fit_transform(df[num_cols])\n",
        "df['SalePrice'] = scaler.fit_transform(df['SalePrice'].values.reshape(-1,1))"
      ],
      "metadata": {
        "id": "Htsn_fe2rBjn"
      },
      "execution_count": null,
      "outputs": []
    },
    {
      "cell_type": "code",
      "source": [
        "X = df.drop('SalePrice',axis = 1)\n",
        "y = df['SalePrice']"
      ],
      "metadata": {
        "id": "qI-0cK5arli0"
      },
      "execution_count": null,
      "outputs": []
    },
    {
      "cell_type": "code",
      "source": [
        "from sklearn.model_selection import train_test_split\n",
        "x_train, x_test, y_train, y_test = train_test_split(X,y,test_size=0.2,random_state=0)\n",
        "x_train.drop('Id',axis = 1,inplace = True)\n",
        "test_id = x_test['Id']\n",
        "x_test.drop('Id',axis = 1,inplace = True)"
      ],
      "metadata": {
        "id": "_4cdzzsHrnX8"
      },
      "execution_count": null,
      "outputs": []
    },
    {
      "cell_type": "code",
      "source": [
        "# Importing LinearRegression\n",
        "from sklearn.linear_model import LinearRegression\n",
        "#Training Linear regression model\n",
        "lr = LinearRegression()\n",
        "lr.fit(x_train, y_train)\n",
        "LR_y_pred = lr.predict(x_test)\n",
        "expl_lr = explained_variance_score(LR_y_pred,y_test)\n",
        "lr_score = lr.score(x_test,y_test)\n",
        "mae_lr = metrics.mean_absolute_error(y_test,LR_y_pred)\n",
        "mse_lr =  metrics.mean_squared_error(y_test,LR_y_pred)"
      ],
      "metadata": {
        "id": "4lAagExsrpJY"
      },
      "execution_count": null,
      "outputs": []
    },
    {
      "cell_type": "code",
      "source": [
        "from sklearn import metrics\n",
        "from sklearn.metrics import r2_score\n",
        "from sklearn.model_selection import train_test_split\n",
        "from sklearn.tree import DecisionTreeRegressor\n",
        "from sklearn.ensemble import RandomForestRegressor\n",
        "from sklearn.metrics import explained_variance_score\n",
        "from sklearn.metrics import confusion_matrix"
      ],
      "metadata": {
        "id": "7ElXoR1QrsPB"
      },
      "execution_count": null,
      "outputs": []
    },
    {
      "cell_type": "code",
      "source": [
        "#Training Decision Tree model\n",
        "tr_regressor = DecisionTreeRegressor(random_state=0)\n",
        "tr_regressor.fit(x_train,y_train)\n",
        "tr_regressor.score(x_test,y_test)\n",
        "pred_tr = tr_regressor.predict(x_test)\n",
        "decision_score=tr_regressor.score(x_test,y_test)\n",
        "expl_tr = explained_variance_score(pred_tr,y_test)\n",
        "mae_tr = metrics.mean_absolute_error(y_test,pred_tr)\n",
        "mse_tr = metrics.mean_squared_error(y_test,pred_tr)"
      ],
      "metadata": {
        "id": "K-ru5QlSrtiZ"
      },
      "execution_count": null,
      "outputs": []
    },
    {
      "cell_type": "code",
      "source": [
        "#Training Random Forest model\n",
        "rf_regressor = RandomForestRegressor(n_estimators=28,random_state=0)\n",
        "rf_regressor.fit(x_train,y_train)\n",
        "rf_regressor.score(x_test,y_test)\n",
        "rf_pred =rf_regressor.predict(x_test)\n",
        "rf_score=rf_regressor.score(x_test,y_test)\n",
        "expl_rf = explained_variance_score(rf_pred,y_test)\n",
        "mae_rf = metrics.mean_absolute_error(y_test,rf_pred)\n",
        "mse_rf = metrics.mean_squared_error(y_test,rf_pred)"
      ],
      "metadata": {
        "id": "tcj27f1Tr-LC"
      },
      "execution_count": null,
      "outputs": []
    },
    {
      "cell_type": "code",
      "source": [
        "#Training SVM model\n",
        "from sklearn import datasets\n",
        "from sklearn.model_selection import train_test_split\n",
        "from sklearn import svm\n",
        "from sklearn import metrics\n",
        "cls = svm.SVR(kernel='linear')\n",
        "cls.fit(x_train, y_train)\n",
        "pred = cls.predict(x_test)\n",
        "svm_score = cls.score(x_test,y_test)\n",
        "mae_svm = metrics.mean_absolute_error(y_test,pred)\n",
        "mse_svm = metrics.mean_squared_error(y_test,pred)\n",
        "expl_svm = explained_variance_score(pred,y_test)"
      ],
      "metadata": {
        "id": "5zQfPLwnsBU8"
      },
      "execution_count": null,
      "outputs": []
    },
    {
      "cell_type": "markdown",
      "source": [
        "**Linear Regression**"
      ],
      "metadata": {
        "id": "Kq4U6W_qBaLm"
      }
    },
    {
      "cell_type": "code",
      "source": [
        "print(r2_score(y_test,LR_y_pred))\n",
        "print('MAE:', metrics.mean_absolute_error(y_test,LR_y_pred))\n",
        "print('MSE:', metrics.mean_squared_error(y_test,LR_y_pred))\n",
        "print('RMSE:',np.sqrt(metrics.mean_absolute_error(y_test,LR_y_pred)))"
      ],
      "metadata": {
        "colab": {
          "base_uri": "https://localhost:8080/"
        },
        "id": "qTdnr8ZgBejV",
        "outputId": "9935c494-ce30-4858-9e21-f35853d8496e"
      },
      "execution_count": null,
      "outputs": [
        {
          "output_type": "stream",
          "name": "stdout",
          "text": [
            "0.9999968337782946\n",
            "MAE: 0.00017802331159378956\n",
            "MSE: 4.215607708248189e-08\n",
            "RMSE: 0.013342537674437707\n"
          ]
        }
      ]
    },
    {
      "cell_type": "markdown",
      "source": [
        "**Random Forest and Decision Tree**"
      ],
      "metadata": {
        "id": "tIRFKCejBTHI"
      }
    },
    {
      "cell_type": "code",
      "source": [
        "print(\"Decision tree Regression Model Score is\",round(tr_regressor.score(x_test,y_test)*100))\n",
        "print(\"Random Forest Regression Model Score is\",round(rf_regressor.score(x_test,y_test)*100))"
      ],
      "metadata": {
        "colab": {
          "base_uri": "https://localhost:8080/"
        },
        "id": "aC5b9MgVBZSr",
        "outputId": "350263c8-340e-4430-fe0f-a0a8956e2c01"
      },
      "execution_count": null,
      "outputs": [
        {
          "output_type": "stream",
          "name": "stdout",
          "text": [
            "Decision tree Regression Model Score is 85\n",
            "Random Forest Regression Model Score is 90\n"
          ]
        }
      ]
    },
    {
      "cell_type": "markdown",
      "source": [
        "**SVM**"
      ],
      "metadata": {
        "id": "IIlwjaBjBMpw"
      }
    },
    {
      "cell_type": "code",
      "source": [
        "print(r2_score(y_test,pred))\n",
        "print('MAE:', metrics.mean_absolute_error(y_test,pred))\n",
        "print('MSE:', metrics.mean_squared_error(y_test,pred))\n",
        "print('RMSE:',np.sqrt(metrics.mean_absolute_error(y_test,pred)))"
      ],
      "metadata": {
        "colab": {
          "base_uri": "https://localhost:8080/"
        },
        "id": "wF-tBAFpsFuF",
        "outputId": "f4e3fe82-fe89-40af-fd96-a7f43238275b"
      },
      "execution_count": null,
      "outputs": [
        {
          "output_type": "stream",
          "name": "stdout",
          "text": [
            "0.6611887081315857\n",
            "MAE: 0.04703916017499016\n",
            "MSE: 0.0045110406867774865\n",
            "RMSE: 0.2168851312907138\n"
          ]
        }
      ]
    },
    {
      "cell_type": "code",
      "source": [
        "models_score = pd.DataFrame({'Model': ['Decision Tree','Random forest ', 'SVM', 'Linear Regression'],\n",
        "'R^2 Score': [decision_score, rf_score, svm_score, lr_score],\n",
        "'Explained Variance Score': [expl_tr, expl_rf, expl_svm, expl_lr],\n",
        "'Mean Absolute Error': [mae_tr, mae_rf, mae_svm, mae_lr],\n",
        "'Mean Squared Error': [mse_tr, mse_rf, mse_svm, mse_lr] })\n",
        "models_score.sort_values(by='R^2 Score', ascending=False)"
      ],
      "metadata": {
        "colab": {
          "base_uri": "https://localhost:8080/",
          "height": 174
        },
        "id": "HkxSWsbI9f9C",
        "outputId": "5cd7e855-8949-4c97-84c7-4d9b718afb5d"
      },
      "execution_count": null,
      "outputs": [
        {
          "output_type": "execute_result",
          "data": {
            "text/plain": [
              "               Model  R^2 Score  Explained Variance Score  \\\n",
              "3  Linear Regression   0.999997                  0.999997   \n",
              "1     Random forest    0.902344                  0.870853   \n",
              "0      Decision Tree   0.848239                  0.823479   \n",
              "2                SVM   0.661189                  0.477933   \n",
              "\n",
              "   Mean Absolute Error  Mean Squared Error  \n",
              "3             0.000178        4.215608e-08  \n",
              "1             0.012902        1.300219e-03  \n",
              "0             0.019587        2.020599e-03  \n",
              "2             0.047039        4.511041e-03  "
            ],
            "text/html": [
              "\n",
              "  <div id=\"df-4a912145-77cc-4182-a954-200d1df240f6\">\n",
              "    <div class=\"colab-df-container\">\n",
              "      <div>\n",
              "<style scoped>\n",
              "    .dataframe tbody tr th:only-of-type {\n",
              "        vertical-align: middle;\n",
              "    }\n",
              "\n",
              "    .dataframe tbody tr th {\n",
              "        vertical-align: top;\n",
              "    }\n",
              "\n",
              "    .dataframe thead th {\n",
              "        text-align: right;\n",
              "    }\n",
              "</style>\n",
              "<table border=\"1\" class=\"dataframe\">\n",
              "  <thead>\n",
              "    <tr style=\"text-align: right;\">\n",
              "      <th></th>\n",
              "      <th>Model</th>\n",
              "      <th>R^2 Score</th>\n",
              "      <th>Explained Variance Score</th>\n",
              "      <th>Mean Absolute Error</th>\n",
              "      <th>Mean Squared Error</th>\n",
              "    </tr>\n",
              "  </thead>\n",
              "  <tbody>\n",
              "    <tr>\n",
              "      <th>3</th>\n",
              "      <td>Linear Regression</td>\n",
              "      <td>0.999997</td>\n",
              "      <td>0.999997</td>\n",
              "      <td>0.000178</td>\n",
              "      <td>4.215608e-08</td>\n",
              "    </tr>\n",
              "    <tr>\n",
              "      <th>1</th>\n",
              "      <td>Random forest</td>\n",
              "      <td>0.902344</td>\n",
              "      <td>0.870853</td>\n",
              "      <td>0.012902</td>\n",
              "      <td>1.300219e-03</td>\n",
              "    </tr>\n",
              "    <tr>\n",
              "      <th>0</th>\n",
              "      <td>Decision Tree</td>\n",
              "      <td>0.848239</td>\n",
              "      <td>0.823479</td>\n",
              "      <td>0.019587</td>\n",
              "      <td>2.020599e-03</td>\n",
              "    </tr>\n",
              "    <tr>\n",
              "      <th>2</th>\n",
              "      <td>SVM</td>\n",
              "      <td>0.661189</td>\n",
              "      <td>0.477933</td>\n",
              "      <td>0.047039</td>\n",
              "      <td>4.511041e-03</td>\n",
              "    </tr>\n",
              "  </tbody>\n",
              "</table>\n",
              "</div>\n",
              "      <button class=\"colab-df-convert\" onclick=\"convertToInteractive('df-4a912145-77cc-4182-a954-200d1df240f6')\"\n",
              "              title=\"Convert this dataframe to an interactive table.\"\n",
              "              style=\"display:none;\">\n",
              "        \n",
              "  <svg xmlns=\"http://www.w3.org/2000/svg\" height=\"24px\"viewBox=\"0 0 24 24\"\n",
              "       width=\"24px\">\n",
              "    <path d=\"M0 0h24v24H0V0z\" fill=\"none\"/>\n",
              "    <path d=\"M18.56 5.44l.94 2.06.94-2.06 2.06-.94-2.06-.94-.94-2.06-.94 2.06-2.06.94zm-11 1L8.5 8.5l.94-2.06 2.06-.94-2.06-.94L8.5 2.5l-.94 2.06-2.06.94zm10 10l.94 2.06.94-2.06 2.06-.94-2.06-.94-.94-2.06-.94 2.06-2.06.94z\"/><path d=\"M17.41 7.96l-1.37-1.37c-.4-.4-.92-.59-1.43-.59-.52 0-1.04.2-1.43.59L10.3 9.45l-7.72 7.72c-.78.78-.78 2.05 0 2.83L4 21.41c.39.39.9.59 1.41.59.51 0 1.02-.2 1.41-.59l7.78-7.78 2.81-2.81c.8-.78.8-2.07 0-2.86zM5.41 20L4 18.59l7.72-7.72 1.47 1.35L5.41 20z\"/>\n",
              "  </svg>\n",
              "      </button>\n",
              "      \n",
              "  <style>\n",
              "    .colab-df-container {\n",
              "      display:flex;\n",
              "      flex-wrap:wrap;\n",
              "      gap: 12px;\n",
              "    }\n",
              "\n",
              "    .colab-df-convert {\n",
              "      background-color: #E8F0FE;\n",
              "      border: none;\n",
              "      border-radius: 50%;\n",
              "      cursor: pointer;\n",
              "      display: none;\n",
              "      fill: #1967D2;\n",
              "      height: 32px;\n",
              "      padding: 0 0 0 0;\n",
              "      width: 32px;\n",
              "    }\n",
              "\n",
              "    .colab-df-convert:hover {\n",
              "      background-color: #E2EBFA;\n",
              "      box-shadow: 0px 1px 2px rgba(60, 64, 67, 0.3), 0px 1px 3px 1px rgba(60, 64, 67, 0.15);\n",
              "      fill: #174EA6;\n",
              "    }\n",
              "\n",
              "    [theme=dark] .colab-df-convert {\n",
              "      background-color: #3B4455;\n",
              "      fill: #D2E3FC;\n",
              "    }\n",
              "\n",
              "    [theme=dark] .colab-df-convert:hover {\n",
              "      background-color: #434B5C;\n",
              "      box-shadow: 0px 1px 3px 1px rgba(0, 0, 0, 0.15);\n",
              "      filter: drop-shadow(0px 1px 2px rgba(0, 0, 0, 0.3));\n",
              "      fill: #FFFFFF;\n",
              "    }\n",
              "  </style>\n",
              "\n",
              "      <script>\n",
              "        const buttonEl =\n",
              "          document.querySelector('#df-4a912145-77cc-4182-a954-200d1df240f6 button.colab-df-convert');\n",
              "        buttonEl.style.display =\n",
              "          google.colab.kernel.accessAllowed ? 'block' : 'none';\n",
              "\n",
              "        async function convertToInteractive(key) {\n",
              "          const element = document.querySelector('#df-4a912145-77cc-4182-a954-200d1df240f6');\n",
              "          const dataTable =\n",
              "            await google.colab.kernel.invokeFunction('convertToInteractive',\n",
              "                                                     [key], {});\n",
              "          if (!dataTable) return;\n",
              "\n",
              "          const docLinkHtml = 'Like what you see? Visit the ' +\n",
              "            '<a target=\"_blank\" href=https://colab.research.google.com/notebooks/data_table.ipynb>data table notebook</a>'\n",
              "            + ' to learn more about interactive tables.';\n",
              "          element.innerHTML = '';\n",
              "          dataTable['output_type'] = 'display_data';\n",
              "          await google.colab.output.renderOutput(dataTable, element);\n",
              "          const docLink = document.createElement('div');\n",
              "          docLink.innerHTML = docLinkHtml;\n",
              "          element.appendChild(docLink);\n",
              "        }\n",
              "      </script>\n",
              "    </div>\n",
              "  </div>\n",
              "  "
            ]
          },
          "metadata": {},
          "execution_count": 662
        }
      ]
    },
    {
      "cell_type": "markdown",
      "source": [
        "**Conclusion**\n",
        "\n",
        "According to the score with different model,since Linear Regression has a high R2 score which are very close to 100, it suspicious to overfitting. Therefore, I will use the second high model (Random forest) to train the data"
      ],
      "metadata": {
        "id": "impD-Ib7Fqrr"
      }
    },
    {
      "cell_type": "code",
      "source": [
        "temp = pd.DataFrame({'SalePrice': rf_pred.flatten()})"
      ],
      "metadata": {
        "id": "sT1alCPT65DW"
      },
      "execution_count": null,
      "outputs": []
    },
    {
      "cell_type": "code",
      "source": [
        "temp_price = scaler.inverse_transform(temp)"
      ],
      "metadata": {
        "id": "YTH9P9KS7CPE"
      },
      "execution_count": null,
      "outputs": []
    },
    {
      "cell_type": "code",
      "source": [
        "temp_price = temp_price.ravel()"
      ],
      "metadata": {
        "id": "DQGS92Y47G-W"
      },
      "execution_count": null,
      "outputs": []
    },
    {
      "cell_type": "code",
      "source": [
        "submission = pd.DataFrame({'Id': test_id, 'SalePrice': temp_price})"
      ],
      "metadata": {
        "id": "S8JMVY1DPtUV"
      },
      "execution_count": null,
      "outputs": []
    },
    {
      "cell_type": "code",
      "source": [
        "submission = submission.reset_index()\n",
        "submission.drop('index',axis = 1,inplace = True)"
      ],
      "metadata": {
        "id": "ZmGENhTAP0-1"
      },
      "execution_count": null,
      "outputs": []
    },
    {
      "cell_type": "code",
      "source": [
        "showinfo()"
      ],
      "metadata": {
        "colab": {
          "base_uri": "https://localhost:8080/"
        },
        "id": "UPULklW24Knd",
        "outputId": "82aa9290-e858-49a6-8bad-a28e4d319b24"
      },
      "execution_count": null,
      "outputs": [
        {
          "output_type": "stream",
          "name": "stdout",
          "text": [
            "Name : Chong Yee Nam\n",
            "Student ID: 21073251A\n",
            "Class : 201B\n"
          ]
        }
      ]
    },
    {
      "cell_type": "code",
      "source": [
        "submission"
      ],
      "metadata": {
        "colab": {
          "base_uri": "https://localhost:8080/",
          "height": 424
        },
        "id": "Eo8HoZBARrCo",
        "outputId": "e8f7a9eb-11ae-467e-edf4-d780483cf083"
      },
      "execution_count": null,
      "outputs": [
        {
          "output_type": "execute_result",
          "data": {
            "text/plain": [
              "       Id      SalePrice\n",
              "0    2844  179350.000000\n",
              "1    2757  172346.428571\n",
              "2    2462  173871.428571\n",
              "3    2093  162339.285714\n",
              "4    2052  180196.428571\n",
              "..    ...            ...\n",
              "217  2101  187692.857143\n",
              "218  2741  175510.714286\n",
              "219  2402  170557.142857\n",
              "220  2669  186500.000000\n",
              "221  2367  151839.285714\n",
              "\n",
              "[222 rows x 2 columns]"
            ],
            "text/html": [
              "\n",
              "  <div id=\"df-9d7cd93b-e225-4b47-99e9-d91983df166f\">\n",
              "    <div class=\"colab-df-container\">\n",
              "      <div>\n",
              "<style scoped>\n",
              "    .dataframe tbody tr th:only-of-type {\n",
              "        vertical-align: middle;\n",
              "    }\n",
              "\n",
              "    .dataframe tbody tr th {\n",
              "        vertical-align: top;\n",
              "    }\n",
              "\n",
              "    .dataframe thead th {\n",
              "        text-align: right;\n",
              "    }\n",
              "</style>\n",
              "<table border=\"1\" class=\"dataframe\">\n",
              "  <thead>\n",
              "    <tr style=\"text-align: right;\">\n",
              "      <th></th>\n",
              "      <th>Id</th>\n",
              "      <th>SalePrice</th>\n",
              "    </tr>\n",
              "  </thead>\n",
              "  <tbody>\n",
              "    <tr>\n",
              "      <th>0</th>\n",
              "      <td>2844</td>\n",
              "      <td>179350.000000</td>\n",
              "    </tr>\n",
              "    <tr>\n",
              "      <th>1</th>\n",
              "      <td>2757</td>\n",
              "      <td>172346.428571</td>\n",
              "    </tr>\n",
              "    <tr>\n",
              "      <th>2</th>\n",
              "      <td>2462</td>\n",
              "      <td>173871.428571</td>\n",
              "    </tr>\n",
              "    <tr>\n",
              "      <th>3</th>\n",
              "      <td>2093</td>\n",
              "      <td>162339.285714</td>\n",
              "    </tr>\n",
              "    <tr>\n",
              "      <th>4</th>\n",
              "      <td>2052</td>\n",
              "      <td>180196.428571</td>\n",
              "    </tr>\n",
              "    <tr>\n",
              "      <th>...</th>\n",
              "      <td>...</td>\n",
              "      <td>...</td>\n",
              "    </tr>\n",
              "    <tr>\n",
              "      <th>217</th>\n",
              "      <td>2101</td>\n",
              "      <td>187692.857143</td>\n",
              "    </tr>\n",
              "    <tr>\n",
              "      <th>218</th>\n",
              "      <td>2741</td>\n",
              "      <td>175510.714286</td>\n",
              "    </tr>\n",
              "    <tr>\n",
              "      <th>219</th>\n",
              "      <td>2402</td>\n",
              "      <td>170557.142857</td>\n",
              "    </tr>\n",
              "    <tr>\n",
              "      <th>220</th>\n",
              "      <td>2669</td>\n",
              "      <td>186500.000000</td>\n",
              "    </tr>\n",
              "    <tr>\n",
              "      <th>221</th>\n",
              "      <td>2367</td>\n",
              "      <td>151839.285714</td>\n",
              "    </tr>\n",
              "  </tbody>\n",
              "</table>\n",
              "<p>222 rows × 2 columns</p>\n",
              "</div>\n",
              "      <button class=\"colab-df-convert\" onclick=\"convertToInteractive('df-9d7cd93b-e225-4b47-99e9-d91983df166f')\"\n",
              "              title=\"Convert this dataframe to an interactive table.\"\n",
              "              style=\"display:none;\">\n",
              "        \n",
              "  <svg xmlns=\"http://www.w3.org/2000/svg\" height=\"24px\"viewBox=\"0 0 24 24\"\n",
              "       width=\"24px\">\n",
              "    <path d=\"M0 0h24v24H0V0z\" fill=\"none\"/>\n",
              "    <path d=\"M18.56 5.44l.94 2.06.94-2.06 2.06-.94-2.06-.94-.94-2.06-.94 2.06-2.06.94zm-11 1L8.5 8.5l.94-2.06 2.06-.94-2.06-.94L8.5 2.5l-.94 2.06-2.06.94zm10 10l.94 2.06.94-2.06 2.06-.94-2.06-.94-.94-2.06-.94 2.06-2.06.94z\"/><path d=\"M17.41 7.96l-1.37-1.37c-.4-.4-.92-.59-1.43-.59-.52 0-1.04.2-1.43.59L10.3 9.45l-7.72 7.72c-.78.78-.78 2.05 0 2.83L4 21.41c.39.39.9.59 1.41.59.51 0 1.02-.2 1.41-.59l7.78-7.78 2.81-2.81c.8-.78.8-2.07 0-2.86zM5.41 20L4 18.59l7.72-7.72 1.47 1.35L5.41 20z\"/>\n",
              "  </svg>\n",
              "      </button>\n",
              "      \n",
              "  <style>\n",
              "    .colab-df-container {\n",
              "      display:flex;\n",
              "      flex-wrap:wrap;\n",
              "      gap: 12px;\n",
              "    }\n",
              "\n",
              "    .colab-df-convert {\n",
              "      background-color: #E8F0FE;\n",
              "      border: none;\n",
              "      border-radius: 50%;\n",
              "      cursor: pointer;\n",
              "      display: none;\n",
              "      fill: #1967D2;\n",
              "      height: 32px;\n",
              "      padding: 0 0 0 0;\n",
              "      width: 32px;\n",
              "    }\n",
              "\n",
              "    .colab-df-convert:hover {\n",
              "      background-color: #E2EBFA;\n",
              "      box-shadow: 0px 1px 2px rgba(60, 64, 67, 0.3), 0px 1px 3px 1px rgba(60, 64, 67, 0.15);\n",
              "      fill: #174EA6;\n",
              "    }\n",
              "\n",
              "    [theme=dark] .colab-df-convert {\n",
              "      background-color: #3B4455;\n",
              "      fill: #D2E3FC;\n",
              "    }\n",
              "\n",
              "    [theme=dark] .colab-df-convert:hover {\n",
              "      background-color: #434B5C;\n",
              "      box-shadow: 0px 1px 3px 1px rgba(0, 0, 0, 0.15);\n",
              "      filter: drop-shadow(0px 1px 2px rgba(0, 0, 0, 0.3));\n",
              "      fill: #FFFFFF;\n",
              "    }\n",
              "  </style>\n",
              "\n",
              "      <script>\n",
              "        const buttonEl =\n",
              "          document.querySelector('#df-9d7cd93b-e225-4b47-99e9-d91983df166f button.colab-df-convert');\n",
              "        buttonEl.style.display =\n",
              "          google.colab.kernel.accessAllowed ? 'block' : 'none';\n",
              "\n",
              "        async function convertToInteractive(key) {\n",
              "          const element = document.querySelector('#df-9d7cd93b-e225-4b47-99e9-d91983df166f');\n",
              "          const dataTable =\n",
              "            await google.colab.kernel.invokeFunction('convertToInteractive',\n",
              "                                                     [key], {});\n",
              "          if (!dataTable) return;\n",
              "\n",
              "          const docLinkHtml = 'Like what you see? Visit the ' +\n",
              "            '<a target=\"_blank\" href=https://colab.research.google.com/notebooks/data_table.ipynb>data table notebook</a>'\n",
              "            + ' to learn more about interactive tables.';\n",
              "          element.innerHTML = '';\n",
              "          dataTable['output_type'] = 'display_data';\n",
              "          await google.colab.output.renderOutput(dataTable, element);\n",
              "          const docLink = document.createElement('div');\n",
              "          docLink.innerHTML = docLinkHtml;\n",
              "          element.appendChild(docLink);\n",
              "        }\n",
              "      </script>\n",
              "    </div>\n",
              "  </div>\n",
              "  "
            ]
          },
          "metadata": {},
          "execution_count": 658
        }
      ]
    }
  ]
}